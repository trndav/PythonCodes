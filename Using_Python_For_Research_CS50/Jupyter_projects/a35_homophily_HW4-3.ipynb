{
 "cells": [
  {
   "cell_type": "markdown",
   "metadata": {},
   "source": [
    "# Using Python for Research Homework: Week 4, Case Study 3\n",
    "\n",
    "Homophily is a property of networks.  Homophily occurs when nodes that are neighbors in a network also share a characteristic more often than nodes that are not network neighbors.  In this case study, we will investigate homophily of several characteristics of individuals connected in social networks in rural India."
   ]
  },
  {
   "cell_type": "markdown",
   "metadata": {},
   "source": [
    "### Exercise 1\n",
    "In Exercise 1, we will calculate the chance homophily for an arbitrary characteristic. Homophily is the proportion of edges in the network whose constituent nodes share that characteristic.\n",
    "\n",
    "How much homophily do we expect by chance? If characteristics are distributed completely randomly, the probability that two nodes \\(x\\) and \\(y\\) share characteristic \\(a\\) is the probability both nodes have characteristic \\(a\\) , which is the marginal probability of \\(a\\) squared. The total probability that nodes \\(x\\) and \\(y\\) share their characteristic is therefore the sum of the square of the marginal probabilities of each characteristic in the network.\n",
    "\n",
    "<strong>Instructions</strong>\n",
    "<ul><li>Create a function <code>marginal_prob</code> that takes a dictionary <code>chars</code> with personal IDs as keys and characteristics as values; it should return a dictionary with characteristics as keys and their marginal probability (frequency of occurence of a characteristic divided by the sum of frequencies of each characteristic) as values.</li>\n",
    "<li>Create a function <code>chance_homophily(chars)</code> that takes a dictionary <code>chars</code> defined as above and computes the chance homophily (homophily due to chance alone) for that characteristic.</li>\n",
    "<li>A sample of three peoples' favorite colors is given in <code>favorite_colors</code>. Use your function to compute the chance homophily in this group, and store it as <code>color_homophily</code>.</li>\n",
    "<li>Print <code>color_homophily</code>.</li></ul>"
   ]
  },
  {
   "cell_type": "code",
   "execution_count": 6,
   "metadata": {},
   "outputs": [
    {
     "name": "stdout",
     "output_type": "stream",
     "text": [
      "0.5555555555555556\n",
      "   village  adjmatrix_key     pid  hhid  resp_id  resp_gend  \\\n",
      "0        1              5  100201  1002        1          1   \n",
      "1        1              6  100202  1002        2          2   \n",
      "2        1             23  100601  1006        1          1   \n",
      "3        1             24  100602  1006        2          2   \n",
      "4        1             27  100701  1007        1          1   \n",
      "\n",
      "                   resp_status  age  religion caste  ...       privategovt  \\\n",
      "0            Head of Household   38  HINDUISM   OBC  ...  PRIVATE BUSINESS   \n",
      "1  Spouse of Head of Household   27  HINDUISM   OBC  ...               NaN   \n",
      "2            Head of Household   29  HINDUISM   OBC  ...        OTHER LAND   \n",
      "3  Spouse of Head of Household   24  HINDUISM   OBC  ...  PRIVATE BUSINESS   \n",
      "4            Head of Household   58  HINDUISM   OBC  ...        OTHER LAND   \n",
      "\n",
      "  work_outside work_outside_freq shgparticipate shg_no savings savings_no  \\\n",
      "0          Yes               0.0             No    NaN      No        NaN   \n",
      "1          NaN               NaN             No    NaN      No        NaN   \n",
      "2           No               NaN             No    NaN      No        NaN   \n",
      "3           No               NaN            Yes    1.0     Yes        1.0   \n",
      "4           No               NaN             No    NaN      No        NaN   \n",
      "\n",
      "  electioncard rationcard rationcard_colour  \n",
      "0          Yes        Yes             GREEN  \n",
      "1          Yes        Yes             GREEN  \n",
      "2          Yes        Yes             GREEN  \n",
      "3          Yes         No               NaN  \n",
      "4          Yes        Yes             GREEN  \n",
      "\n",
      "[5 rows x 48 columns]\n"
     ]
    }
   ],
   "source": [
    "from collections import Counter\n",
    "import numpy as np\n",
    "\n",
    "def marginal_prob(chars):\n",
    "    # Count the occurrences of each characteristic\n",
    "    count = Counter(chars.values())\n",
    "    \n",
    "    # Calculate the total number of characteristics\n",
    "    total_count = sum(count.values())\n",
    "    \n",
    "    # Calculate the marginal probability for each characteristic\n",
    "    marginal_probs = {char: freq / total_count for char, freq in count.items()}\n",
    "\n",
    "    return marginal_probs\n",
    "        \n",
    "def chance_homophily(chars):\n",
    "    marginal_probs = marginal_prob(chars)\n",
    "    \n",
    "    # Calculate the chance homophily by summing the squares of the marginal probabilities\n",
    "    homophily = sum(prob ** 2 for prob in marginal_probs.values())\n",
    "    \n",
    "    return homophily\n",
    "\n",
    "favorite_colors = {\n",
    "    \"ankit\":  \"red\",\n",
    "    \"xiaoyu\": \"blue\",\n",
    "    \"mary\":   \"blue\"\n",
    "}\n",
    "\n",
    "color_homophily = chance_homophily(favorite_colors)\n",
    "print(color_homophily)\n",
    "print(df.head())"
   ]
  },
  {
   "cell_type": "markdown",
   "metadata": {},
   "source": [
    "### Exercise 2\n",
    "\n",
    "In the remaining exercises, we will calculate actual homophily in these village and compare the obtained values to those obtained by chance. In this exercise, we subset the data into individual villages and store them.\n",
    "\n",
    "#### Instructions \n",
    "\n",
    "- `individual_characteristics.dta` contains several characteristics for each individual in the dataset such as age, religion, and caste. Use the `pandas` library to read in and store these characteristics as a dataframe called `df`.\n",
    "- Store separate datasets for individuals belonging to Villages 1 and 2 as `df1` and `df2`, respectively.\n",
    "- Note that some attributes may be missing for some individuals. In this case study, we will ignore rows of data where some column information is missing.\n",
    "- Use the head method to display the first few entries of `df1`."
   ]
  },
  {
   "cell_type": "code",
   "execution_count": 5,
   "metadata": {},
   "outputs": [
    {
     "name": "stdout",
     "output_type": "stream",
     "text": [
      "   village  adjmatrix_key     pid  hhid  resp_id  resp_gend  \\\n",
      "0        1              5  100201  1002        1          1   \n",
      "1        1              6  100202  1002        2          2   \n",
      "2        1             23  100601  1006        1          1   \n",
      "3        1             24  100602  1006        2          2   \n",
      "4        1             27  100701  1007        1          1   \n",
      "\n",
      "                   resp_status  age  religion caste  ...       privategovt  \\\n",
      "0            Head of Household   38  HINDUISM   OBC  ...  PRIVATE BUSINESS   \n",
      "1  Spouse of Head of Household   27  HINDUISM   OBC  ...               NaN   \n",
      "2            Head of Household   29  HINDUISM   OBC  ...        OTHER LAND   \n",
      "3  Spouse of Head of Household   24  HINDUISM   OBC  ...  PRIVATE BUSINESS   \n",
      "4            Head of Household   58  HINDUISM   OBC  ...        OTHER LAND   \n",
      "\n",
      "  work_outside work_outside_freq shgparticipate shg_no savings savings_no  \\\n",
      "0          Yes               0.0             No    NaN      No        NaN   \n",
      "1          NaN               NaN             No    NaN      No        NaN   \n",
      "2           No               NaN             No    NaN      No        NaN   \n",
      "3           No               NaN            Yes    1.0     Yes        1.0   \n",
      "4           No               NaN             No    NaN      No        NaN   \n",
      "\n",
      "  electioncard rationcard rationcard_colour  \n",
      "0          Yes        Yes             GREEN  \n",
      "1          Yes        Yes             GREEN  \n",
      "2          Yes        Yes             GREEN  \n",
      "3          Yes         No               NaN  \n",
      "4          Yes        Yes             GREEN  \n",
      "\n",
      "[5 rows x 48 columns]\n",
      "     village  adjmatrix_key     pid  hhid  resp_id  resp_gend  \\\n",
      "203        2              1  200101  2001        1          1   \n",
      "204        2              6  200201  2002        1          1   \n",
      "205        2              7  200202  2002        2          2   \n",
      "206        2             12  200401  2004        1          1   \n",
      "207        2             13  200402  2004        2          2   \n",
      "\n",
      "                     resp_status  age  religion    caste  ... privategovt  \\\n",
      "203            Head of Household   33  HINDUISM  GENERAL  ...      OTHERS   \n",
      "204            Head of Household   35  HINDUISM  GENERAL  ...      OTHERS   \n",
      "205  Spouse of Head of Household   30  HINDUISM  GENERAL  ...      OTHERS   \n",
      "206            Head of Household   42  HINDUISM  GENERAL  ...      OTHERS   \n",
      "207  Spouse of Head of Household   39  HINDUISM  GENERAL  ...         NaN   \n",
      "\n",
      "    work_outside work_outside_freq shgparticipate shg_no savings savings_no  \\\n",
      "203          Yes               0.0             No    NaN      No        NaN   \n",
      "204           No               NaN             No    NaN      No        NaN   \n",
      "205           No               NaN            Yes    1.0     Yes        1.0   \n",
      "206           No               NaN             No    NaN     Yes        1.0   \n",
      "207          NaN               NaN            Yes    1.0      No        NaN   \n",
      "\n",
      "    electioncard rationcard rationcard_colour  \n",
      "203          Yes        Yes            YELLOW  \n",
      "204          Yes        Yes            YELLOW  \n",
      "205          Yes        Yes            YELLOW  \n",
      "206          Yes        Yes            YELLOW  \n",
      "207          Yes        Yes            YELLOW  \n",
      "\n",
      "[5 rows x 48 columns]\n",
      "   village  adjmatrix_key     pid  hhid  resp_id  resp_gend  \\\n",
      "0        1              5  100201  1002        1          1   \n",
      "1        1              6  100202  1002        2          2   \n",
      "2        1             23  100601  1006        1          1   \n",
      "3        1             24  100602  1006        2          2   \n",
      "4        1             27  100701  1007        1          1   \n",
      "\n",
      "                   resp_status  age  religion caste  ...       privategovt  \\\n",
      "0            Head of Household   38  HINDUISM   OBC  ...  PRIVATE BUSINESS   \n",
      "1  Spouse of Head of Household   27  HINDUISM   OBC  ...               NaN   \n",
      "2            Head of Household   29  HINDUISM   OBC  ...        OTHER LAND   \n",
      "3  Spouse of Head of Household   24  HINDUISM   OBC  ...  PRIVATE BUSINESS   \n",
      "4            Head of Household   58  HINDUISM   OBC  ...        OTHER LAND   \n",
      "\n",
      "  work_outside work_outside_freq shgparticipate shg_no savings savings_no  \\\n",
      "0          Yes               0.0             No    NaN      No        NaN   \n",
      "1          NaN               NaN             No    NaN      No        NaN   \n",
      "2           No               NaN             No    NaN      No        NaN   \n",
      "3           No               NaN            Yes    1.0     Yes        1.0   \n",
      "4           No               NaN             No    NaN      No        NaN   \n",
      "\n",
      "  electioncard rationcard rationcard_colour  \n",
      "0          Yes        Yes             GREEN  \n",
      "1          Yes        Yes             GREEN  \n",
      "2          Yes        Yes             GREEN  \n",
      "3          Yes         No               NaN  \n",
      "4          Yes        Yes             GREEN  \n",
      "\n",
      "[5 rows x 48 columns]\n"
     ]
    }
   ],
   "source": [
    "import pandas as pd\n",
    "\n",
    "df  = pd.read_csv(\"https://courses.edx.org/asset-v1:HarvardX+PH526x+2T2019+type@asset+block@individual_characteristics.csv\", low_memory=False, index_col=0)\n",
    "# Filter the dataset for Village 1\n",
    "df1 = df[df['village'] == 1]\n",
    "\n",
    "# Filter the dataset for Village 2\n",
    "df2 = df[df['village'] == 2]\n",
    "\n",
    "# Display the first few entries of df1\n",
    "print(df1.head())\n",
    "print(df2.head())\n",
    "print(df.head())"
   ]
  },
  {
   "cell_type": "markdown",
   "metadata": {},
   "source": [
    "### Exercise 3 \n",
    "\n",
    "In this exercise, we define a few dictionaries that enable us to look up the sex, caste, and religion of members of each village by personal ID. For Villages 1 and 2, their personal IDs are stored as `pid`.\n",
    "\n",
    "#### Instructions \n",
    "- Define dictionaries with personal IDs as keys and a given covariate for that individual as values. Complete this for the sex, caste, and religion covariates, for Villages 1 and 2.\n",
    "- For Village 1, store these dictionaries into variables named `sex1`, `caste1`, and `religion1`.\n",
    "- For Village 2, store these dictionaries into variables named `sex2`, `caste2`, and `religion2`."
   ]
  },
  {
   "cell_type": "code",
   "execution_count": 4,
   "metadata": {},
   "outputs": [
    {
     "ename": "KeyError",
     "evalue": "'sex'",
     "output_type": "error",
     "traceback": [
      "\u001b[1;31m---------------------------------------------------------------------------\u001b[0m",
      "\u001b[1;31mKeyError\u001b[0m                                  Traceback (most recent call last)",
      "File \u001b[1;32m~\\AppData\\Local\\Programs\\Python\\Python311\\Lib\\site-packages\\pandas\\core\\indexes\\base.py:3652\u001b[0m, in \u001b[0;36mIndex.get_loc\u001b[1;34m(self, key)\u001b[0m\n\u001b[0;32m   3651\u001b[0m \u001b[38;5;28;01mtry\u001b[39;00m:\n\u001b[1;32m-> 3652\u001b[0m     \u001b[38;5;28;01mreturn\u001b[39;00m \u001b[38;5;28;43mself\u001b[39;49m\u001b[38;5;241;43m.\u001b[39;49m\u001b[43m_engine\u001b[49m\u001b[38;5;241;43m.\u001b[39;49m\u001b[43mget_loc\u001b[49m\u001b[43m(\u001b[49m\u001b[43mcasted_key\u001b[49m\u001b[43m)\u001b[49m\n\u001b[0;32m   3653\u001b[0m \u001b[38;5;28;01mexcept\u001b[39;00m \u001b[38;5;167;01mKeyError\u001b[39;00m \u001b[38;5;28;01mas\u001b[39;00m err:\n",
      "File \u001b[1;32m~\\AppData\\Local\\Programs\\Python\\Python311\\Lib\\site-packages\\pandas\\_libs\\index.pyx:147\u001b[0m, in \u001b[0;36mpandas._libs.index.IndexEngine.get_loc\u001b[1;34m()\u001b[0m\n",
      "File \u001b[1;32m~\\AppData\\Local\\Programs\\Python\\Python311\\Lib\\site-packages\\pandas\\_libs\\index.pyx:176\u001b[0m, in \u001b[0;36mpandas._libs.index.IndexEngine.get_loc\u001b[1;34m()\u001b[0m\n",
      "File \u001b[1;32mpandas\\_libs\\hashtable_class_helper.pxi:7080\u001b[0m, in \u001b[0;36mpandas._libs.hashtable.PyObjectHashTable.get_item\u001b[1;34m()\u001b[0m\n",
      "File \u001b[1;32mpandas\\_libs\\hashtable_class_helper.pxi:7088\u001b[0m, in \u001b[0;36mpandas._libs.hashtable.PyObjectHashTable.get_item\u001b[1;34m()\u001b[0m\n",
      "\u001b[1;31mKeyError\u001b[0m: 'sex'",
      "\nThe above exception was the direct cause of the following exception:\n",
      "\u001b[1;31mKeyError\u001b[0m                                  Traceback (most recent call last)",
      "Cell \u001b[1;32mIn[4], line 2\u001b[0m\n\u001b[0;32m      1\u001b[0m \u001b[38;5;66;03m# Create dictionaries for Village 1\u001b[39;00m\n\u001b[1;32m----> 2\u001b[0m sex1 \u001b[38;5;241m=\u001b[39m \u001b[43mdf1\u001b[49m\u001b[43m[\u001b[49m\u001b[38;5;124;43m'\u001b[39;49m\u001b[38;5;124;43msex\u001b[39;49m\u001b[38;5;124;43m'\u001b[39;49m\u001b[43m]\u001b[49m\u001b[38;5;241m.\u001b[39mto_dict()\n\u001b[0;32m      3\u001b[0m caste1 \u001b[38;5;241m=\u001b[39m df1[\u001b[38;5;124m'\u001b[39m\u001b[38;5;124mcaste\u001b[39m\u001b[38;5;124m'\u001b[39m]\u001b[38;5;241m.\u001b[39mto_dict()\n\u001b[0;32m      4\u001b[0m religion1 \u001b[38;5;241m=\u001b[39m df1[\u001b[38;5;124m'\u001b[39m\u001b[38;5;124mreligion\u001b[39m\u001b[38;5;124m'\u001b[39m]\u001b[38;5;241m.\u001b[39mto_dict()\n",
      "File \u001b[1;32m~\\AppData\\Local\\Programs\\Python\\Python311\\Lib\\site-packages\\pandas\\core\\frame.py:3761\u001b[0m, in \u001b[0;36mDataFrame.__getitem__\u001b[1;34m(self, key)\u001b[0m\n\u001b[0;32m   3759\u001b[0m \u001b[38;5;28;01mif\u001b[39;00m \u001b[38;5;28mself\u001b[39m\u001b[38;5;241m.\u001b[39mcolumns\u001b[38;5;241m.\u001b[39mnlevels \u001b[38;5;241m>\u001b[39m \u001b[38;5;241m1\u001b[39m:\n\u001b[0;32m   3760\u001b[0m     \u001b[38;5;28;01mreturn\u001b[39;00m \u001b[38;5;28mself\u001b[39m\u001b[38;5;241m.\u001b[39m_getitem_multilevel(key)\n\u001b[1;32m-> 3761\u001b[0m indexer \u001b[38;5;241m=\u001b[39m \u001b[38;5;28;43mself\u001b[39;49m\u001b[38;5;241;43m.\u001b[39;49m\u001b[43mcolumns\u001b[49m\u001b[38;5;241;43m.\u001b[39;49m\u001b[43mget_loc\u001b[49m\u001b[43m(\u001b[49m\u001b[43mkey\u001b[49m\u001b[43m)\u001b[49m\n\u001b[0;32m   3762\u001b[0m \u001b[38;5;28;01mif\u001b[39;00m is_integer(indexer):\n\u001b[0;32m   3763\u001b[0m     indexer \u001b[38;5;241m=\u001b[39m [indexer]\n",
      "File \u001b[1;32m~\\AppData\\Local\\Programs\\Python\\Python311\\Lib\\site-packages\\pandas\\core\\indexes\\base.py:3654\u001b[0m, in \u001b[0;36mIndex.get_loc\u001b[1;34m(self, key)\u001b[0m\n\u001b[0;32m   3652\u001b[0m     \u001b[38;5;28;01mreturn\u001b[39;00m \u001b[38;5;28mself\u001b[39m\u001b[38;5;241m.\u001b[39m_engine\u001b[38;5;241m.\u001b[39mget_loc(casted_key)\n\u001b[0;32m   3653\u001b[0m \u001b[38;5;28;01mexcept\u001b[39;00m \u001b[38;5;167;01mKeyError\u001b[39;00m \u001b[38;5;28;01mas\u001b[39;00m err:\n\u001b[1;32m-> 3654\u001b[0m     \u001b[38;5;28;01mraise\u001b[39;00m \u001b[38;5;167;01mKeyError\u001b[39;00m(key) \u001b[38;5;28;01mfrom\u001b[39;00m \u001b[38;5;21;01merr\u001b[39;00m\n\u001b[0;32m   3655\u001b[0m \u001b[38;5;28;01mexcept\u001b[39;00m \u001b[38;5;167;01mTypeError\u001b[39;00m:\n\u001b[0;32m   3656\u001b[0m     \u001b[38;5;66;03m# If we have a listlike key, _check_indexing_error will raise\u001b[39;00m\n\u001b[0;32m   3657\u001b[0m     \u001b[38;5;66;03m#  InvalidIndexError. Otherwise we fall through and re-raise\u001b[39;00m\n\u001b[0;32m   3658\u001b[0m     \u001b[38;5;66;03m#  the TypeError.\u001b[39;00m\n\u001b[0;32m   3659\u001b[0m     \u001b[38;5;28mself\u001b[39m\u001b[38;5;241m.\u001b[39m_check_indexing_error(key)\n",
      "\u001b[1;31mKeyError\u001b[0m: 'sex'"
     ]
    }
   ],
   "source": [
    "# Create dictionaries for Village 1\n",
    "sex1 = df1['sex'].to_dict()\n",
    "caste1 = df1['caste'].to_dict()\n",
    "religion1 = df1['religion'].to_dict()\n",
    "\n",
    "# Create dictionaries for Village 2\n",
    "sex2 = df2['sex'].to_dict()\n",
    "caste2 = df2['caste'].to_dict()\n",
    "religion2 = df2['religion'].to_dict()\n",
    "\n",
    "# Display the first few entries of df1 to verify\n",
    "print(df1.head())\n",
    "\n",
    "# Displaying the created dictionaries (optional, can be commented out)\n",
    "print(\"Sex1:\", sex1)\n",
    "print(\"Caste1:\", caste1)\n",
    "print(\"Religion1:\", religion1)\n",
    "print(\"Sex2:\", sex2)\n",
    "print(\"Caste2:\", caste2)\n",
    "print(\"Religion2:\", religion2)\n"
   ]
  },
  {
   "cell_type": "markdown",
   "metadata": {},
   "source": [
    "### Exercise 4\n",
    "\n",
    "In this exercise, we will print the chance homophily of several characteristics of Villages 1 and 2. \n",
    "\n",
    "#### Instructions \n",
    "-  Use `chance_homophily` to compute the chance homophily for sex, caste, and religion In Villages 1 and 2. Is the chance homophily for any attribute very high for either village?"
   ]
  },
  {
   "cell_type": "code",
   "execution_count": null,
   "metadata": {},
   "outputs": [],
   "source": [
    "# Enter your code here.\n"
   ]
  },
  {
   "cell_type": "markdown",
   "metadata": {},
   "source": [
    "### Exercise 5\n",
    "\n",
    "In this exercise, we will create a function that computes the observed homophily given a village and characteristic.\n",
    "\n",
    "#### Instructions \n",
    "- Complete the function `homophily()`, which takes a network `G`, a dictionary of node characteristics `chars`, and node IDs `IDs`. For each node pair, determine whether a tie exists between them, as well as whether they share a characteristic. The total count of these is `num_ties` and `num_same_ties`, respectively, and their ratio is the homophily of chars in `G`. Complete the function by choosing where to increment `num_same_ties` and `num_ties`."
   ]
  },
  {
   "cell_type": "code",
   "execution_count": null,
   "metadata": {},
   "outputs": [],
   "source": [
    "def homophily(G, chars, IDs):\n",
    "    \"\"\"\n",
    "    Given a network G, a dict of characteristics chars for node IDs,\n",
    "    and dict of node IDs for each node in the network,\n",
    "    find the homophily of the network.\n",
    "    \"\"\"\n",
    "    num_same_ties = 0\n",
    "    num_ties = 0\n",
    "    for n1, n2 in G.edges():\n",
    "        if IDs[n1] in chars and IDs[n2] in chars:\n",
    "            if G.has_edge(n1, n2):\n",
    "                # Should `num_ties` be incremented?  What about `num_same_ties`?\n",
    "                if chars[IDs[n1]] == chars[IDs[n2]]:\n",
    "                    # Should `num_ties` be incremented?  What about `num_same_ties`?\n",
    "    return (num_same_ties / num_ties)    "
   ]
  },
  {
   "cell_type": "markdown",
   "metadata": {},
   "source": [
    "### Exercise 6\n",
    "\n",
    "In this exercise, we will obtain the personal IDs for Villages 1 and 2. These will be used in the next exercise to calculate homophily for these villages.\n",
    "\n",
    "#### Instructions \n",
    "- In this dataset, each individual has a personal ID, or PID, stored in `key_vilno_1.csv` and `key_vilno_2.csv` for villages 1 and 2, respectively. `data_filepath1` and `data_filepath2` contain the URLs to the datasets used in this exercise. Use `pd.read_csv` to read in and store `key_vilno_1.csv` and `key_vilno_2.csv` as `pid1` and `pid2` respectively. "
   ]
  },
  {
   "cell_type": "code",
   "execution_count": null,
   "metadata": {},
   "outputs": [],
   "source": [
    "data_filepath1 = \"https://courses.edx.org/asset-v1:HarvardX+PH526x+2T2019+type@asset+block@key_vilno_1.csv\"\n",
    "data_filepath2 = \"https://courses.edx.org/asset-v1:HarvardX+PH526x+2T2019+type@asset+block@key_vilno_2.csv\"\n",
    "\n",
    "# Enter code here!\n"
   ]
  },
  {
   "cell_type": "markdown",
   "metadata": {},
   "source": [
    "### Exercise 7\n",
    "\n",
    "In this exercise, we will compute the homophily of several network characteristics for Villages 1 and 2 and compare them to homophily due to chance alone. The networks for these villages have been stored as networkx graph objects `G1` and `G2`.\n",
    "\n",
    "#### Instructions \n",
    "\n",
    "- Use your `homophily()` function to compute the observed homophily for sex, caste, and religion in Villages 1 and 2. Print all six values.\n",
    "- Use the `chance_homophily()` to compare these values to chance homophily. Are these values higher or lower than that expected by chance?"
   ]
  },
  {
   "cell_type": "code",
   "execution_count": null,
   "metadata": {},
   "outputs": [],
   "source": [
    "import networkx as nx\n",
    "A1 = np.array(pd.read_csv(\"https://courses.edx.org/asset-v1:HarvardX+PH526x+2T2019+type@asset+block@adj_allVillageRelationships_vilno1.csv\", index_col=0))\n",
    "A2 = np.array(pd.read_csv(\"https://courses.edx.org/asset-v1:HarvardX+PH526x+2T2019+type@asset+block@adj_allVillageRelationships_vilno2.csv\", index_col=0))\n",
    "G1 = nx.to_networkx_graph(A1)\n",
    "G2 = nx.to_networkx_graph(A2)\n",
    "\n",
    "pid1 = pd.read_csv(data_filepath1, dtype=int)['0'].to_dict()\n",
    "pid2 = pd.read_csv(data_filepath2, dtype=int)['0'].to_dict()\n",
    "\n",
    "# Enter your code here!\n"
   ]
  }
 ],
 "metadata": {
  "kernelspec": {
   "display_name": "Python 3 (ipykernel)",
   "language": "python",
   "name": "python3"
  },
  "language_info": {
   "codemirror_mode": {
    "name": "ipython",
    "version": 3
   },
   "file_extension": ".py",
   "mimetype": "text/x-python",
   "name": "python",
   "nbconvert_exporter": "python",
   "pygments_lexer": "ipython3",
   "version": "3.11.1"
  },
  "toc": {
   "base_numbering": 1,
   "nav_menu": {},
   "number_sections": false,
   "sideBar": true,
   "skip_h1_title": false,
   "title_cell": "Table of Contents",
   "title_sidebar": "Contents",
   "toc_cell": false,
   "toc_position": {},
   "toc_section_display": true,
   "toc_window_display": true
  }
 },
 "nbformat": 4,
 "nbformat_minor": 4
}
