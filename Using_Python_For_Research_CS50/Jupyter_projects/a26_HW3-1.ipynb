{
 "cells": [
  {
   "cell_type": "markdown",
   "metadata": {},
   "source": [
    "# Using Python for Research Homework: Week 3, Case Study 1\n",
    "\n",
    "A cipher is a secret code for a language.  In this case study, we will explore a cipher that is reported by contemporary Greek historians to have been used by Julius Caesar to send secret messages to generals during times of war."
   ]
  },
  {
   "cell_type": "markdown",
   "metadata": {},
   "source": [
    "### Exercise 1\n",
    "\n",
    "A cipher is a secret code for a language. In this case study, we will explore a cipher that is reported by contemporary Greek historians to have been used by Julius Caesar to send secret messages to generals during times of war.\n",
    "\n",
    "The Caesar cipher shifts each letter of a message to another letter in the alphabet located a fixed distance from the original letter. If our encryption key were `1`, we would shift `h` to the next letter `i`, `i` to the next letter `j`, and so on. If we reach the end of the alphabet, which for us is the space character, we simply loop back to `a`. To decode the message, we make a similar shift, except we move the same number of steps backwards in the alphabet.\n",
    "\n",
    "Over the next five exercises, we will create our own Caesar cipher, as well as a message decoder for this cipher. In this exercise, we will define the alphabet used in the cipher.\n",
    "\n",
    "#### Instructions\n",
    "- The `string` library has been imported. Create a string called `alphabet` consisting of the space character `' '` followed by (concatenated with) the lowercase letters. Note that we're only using the lowercase letters in this exercise."
   ]
  },
  {
   "cell_type": "code",
   "execution_count": 1,
   "metadata": {},
   "outputs": [
    {
     "name": "stdout",
     "output_type": "stream",
     "text": [
      " abcdefghijklmnopqrstuvwxyz\n"
     ]
    }
   ],
   "source": [
    "import string\n",
    "# write your code here!\n",
    "lowercase_letters = string.ascii_lowercase\n",
    "alphabet = ' ' + lowercase_letters\n",
    "print(alphabet)"
   ]
  },
  {
   "cell_type": "markdown",
   "metadata": {},
   "source": [
    "### Exercise 2 \n",
    "\n",
    "In this exercise, we will define a dictionary that specifies the index of each character in `alphabet`.\n",
    "\n",
    "#### Instructions \n",
    "- `alphabet` has already defined in the last exercise. Create a dictionary with keys consisting of the characters in alphabet and values consisting of the numbers from 0 to 26.\n",
    "- Store this as `positions`."
   ]
  },
  {
   "cell_type": "code",
   "execution_count": 19,
   "metadata": {},
   "outputs": [
    {
     "name": "stdout",
     "output_type": "stream",
     "text": [
      "Positions: {' ': 0, 'a': 1, 'b': 2, 'c': 3, 'd': 4, 'e': 5, 'f': 6, 'g': 7, 'h': 8, 'i': 9, 'j': 10, 'k': 11, 'l': 12, 'm': 13, 'n': 14, 'o': 15, 'p': 16, 'q': 17, 'r': 18, 's': 19, 't': 20, 'u': 21, 'v': 22, 'w': 23, 'x': 24, 'y': 25, 'z': 26}\n"
     ]
    }
   ],
   "source": [
    "# write your code here!\n",
    "positions = {}\n",
    "num = 0\n",
    "for x in alphabet:\n",
    "    positions[x] = num\n",
    "    num += 1\n",
    "print(\"Positions:\", positions)"
   ]
  },
  {
   "cell_type": "markdown",
   "metadata": {},
   "source": [
    "### Exercise 3\n",
    "\n",
    "In this exercise, we will encode a message with a Caesar cipher.\n",
    "\n",
    "#### Instructions \n",
    "\n",
    "- `alphabet` and `positions` have already been defined in previous exercises. Use `positions` to create an encoded message based on message where each character in message has been shifted forward by 1 position, as defined by positions.\n",
    "- **Note that you can ensure the result remains within 0-26 using result % 27**\n",
    "- Store this as `encoded_message`."
   ]
  },
  {
   "cell_type": "code",
   "execution_count": 24,
   "metadata": {},
   "outputs": [
    {
     "name": "stdout",
     "output_type": "stream",
     "text": [
      "{' ': 1, 'a': 2, 'b': 3, 'c': 4, 'd': 5, 'e': 6, 'f': 7, 'g': 8, 'h': 9, 'i': 10, 'j': 11, 'k': 12, 'l': 13, 'm': 14, 'n': 15, 'o': 16, 'p': 17, 'q': 18, 'r': 19, 's': 20, 't': 21, 'u': 22, 'v': 23, 'w': 24, 'x': 25, 'y': 26, 'z': 0}\n"
     ]
    }
   ],
   "source": [
    "encoded_mess = {}\n",
    "for char in positions:\n",
    "    current_position = positions[char]\n",
    "    new_position = (current_position + 1) % 27\n",
    "    encoded_mess[char] = new_position\n",
    "print(encoded_mess)\n"
   ]
  },
  {
   "cell_type": "markdown",
   "metadata": {},
   "source": [
    "### Exercise 4\n",
    "\n",
    "In this exercise, we will define a function that encodes a message with any given encryption key.\n",
    "\n",
    "#### Instructions \n",
    "- `alphabet`, `position` and `message` remain defined from previous exercises. Define a function `encoding` that takes a message as input as well as an int encryption key `key` to encode a message with the Caesar cipher by shifting each letter in message by key positions.\n",
    "- Your function should return a string consisting of these encoded letters.\n",
    "- Use `encoding` to encode message using `key = 3` and save the result as `encoded_message`.\n",
    "Print `encoded_message`."
   ]
  },
  {
   "cell_type": "code",
   "execution_count": 26,
   "metadata": {},
   "outputs": [
    {
     "ename": "KeyError",
     "evalue": "11",
     "output_type": "error",
     "traceback": [
      "\u001b[1;31m---------------------------------------------------------------------------\u001b[0m",
      "\u001b[1;31mKeyError\u001b[0m                                  Traceback (most recent call last)",
      "Cell \u001b[1;32mIn[26], line 11\u001b[0m\n\u001b[0;32m      9\u001b[0m     \u001b[38;5;28;01mreturn\u001b[39;00m encoded_message\n\u001b[0;32m     10\u001b[0m mess \u001b[38;5;241m=\u001b[39m \u001b[38;5;124m\"\u001b[39m\u001b[38;5;124mHey bob is here\u001b[39m\u001b[38;5;124m\"\u001b[39m\n\u001b[1;32m---> 11\u001b[0m x \u001b[38;5;241m=\u001b[39m \u001b[43mencode\u001b[49m\u001b[43m(\u001b[49m\u001b[43mmess\u001b[49m\u001b[43m,\u001b[49m\u001b[43m \u001b[49m\u001b[38;5;241;43m3\u001b[39;49m\u001b[43m)\u001b[49m\n\u001b[0;32m     12\u001b[0m \u001b[38;5;28mprint\u001b[39m(x)\n",
      "Cell \u001b[1;32mIn[26], line 8\u001b[0m, in \u001b[0;36mencode\u001b[1;34m(message, key)\u001b[0m\n\u001b[0;32m      6\u001b[0m     current_position \u001b[38;5;241m=\u001b[39m positions[char]\n\u001b[0;32m      7\u001b[0m     new_position \u001b[38;5;241m=\u001b[39m (current_position \u001b[38;5;241m+\u001b[39m key) \u001b[38;5;241m%\u001b[39m \u001b[38;5;241m27\u001b[39m\n\u001b[1;32m----> 8\u001b[0m     encoded_message\u001b[38;5;241m.\u001b[39mappend(\u001b[43mpositions\u001b[49m\u001b[43m[\u001b[49m\u001b[43mnew_position\u001b[49m\u001b[43m]\u001b[49m)\n\u001b[0;32m      9\u001b[0m \u001b[38;5;28;01mreturn\u001b[39;00m encoded_message\n",
      "\u001b[1;31mKeyError\u001b[0m: 11"
     ]
    }
   ],
   "source": [
    "# write your code here \n",
    "def encode(message, key):\n",
    "    encoded_message = []\n",
    "    message = message.lower()\n",
    "    for char in message:\n",
    "        current_position = positions[char]\n",
    "        new_position = (current_position + key) % 27\n",
    "        encoded_message.append(positions[new_position])\n",
    "    return encoded_message\n",
    "mess = \"Hey bob is here\"\n",
    "x = encode(mess, 3)\n",
    "print(x)\n"
   ]
  },
  {
   "cell_type": "markdown",
   "metadata": {},
   "source": [
    "### Exercise 5\n",
    "\n",
    "In this exercise, we will decode an encoded message.\n",
    "\n",
    "#### Instructions \n",
    "- Use `encoding` to decode `encoded_message`.\n",
    "- Store your encoded message as `decoded_message`.\n",
    "- Print `decoded_message`. Does this recover your original message?"
   ]
  },
  {
   "cell_type": "code",
   "execution_count": null,
   "metadata": {},
   "outputs": [],
   "source": [
    "# write your code here!\n"
   ]
  }
 ],
 "metadata": {
  "kernelspec": {
   "display_name": "Python 3 (ipykernel)",
   "language": "python",
   "name": "python3"
  },
  "language_info": {
   "codemirror_mode": {
    "name": "ipython",
    "version": 3
   },
   "file_extension": ".py",
   "mimetype": "text/x-python",
   "name": "python",
   "nbconvert_exporter": "python",
   "pygments_lexer": "ipython3",
   "version": "3.11.1"
  }
 },
 "nbformat": 4,
 "nbformat_minor": 4
}
